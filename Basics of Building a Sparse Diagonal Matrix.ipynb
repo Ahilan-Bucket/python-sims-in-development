{
 "cells": [
  {
   "cell_type": "markdown",
   "id": "a2bf5638",
   "metadata": {},
   "source": [
    "# Basics of scipy.sparse.diags(...)\n",
    "\n",
    "This is a way to Build a Tridiagonal Toeplitz Matrix. Essentially meaning\n",
    "There are three diagonals on the Matrix and and Each of those Diagonal Values that exist are the same. "
   ]
  },
  {
   "cell_type": "code",
   "execution_count": 3,
   "id": "e6179957",
   "metadata": {},
   "outputs": [],
   "source": [
    "import numpy as np\n",
    "import scipy.sparse"
   ]
  },
  {
   "cell_type": "markdown",
   "id": "7178a511",
   "metadata": {},
   "source": [
    " Sparse means rare, so sparse matrix is a matrix has few non zero Elements\n",
    "\n",
    " Lets build a 3x3 Diagonal Matrix with 2's on the Diagonal\n",
    "\n",
    " diags gets you a diagonal with that value, offset tells the position of that value, 0 means \n",
    " center Diagonal and Shape gives the Dimensions of that Matrix"
   ]
  },
  {
   "cell_type": "code",
   "execution_count": 4,
   "id": "fb4fc017",
   "metadata": {},
   "outputs": [
    {
     "name": "stdout",
     "output_type": "stream",
     "text": [
      "<DIAgonal sparse matrix of dtype 'float64'\n",
      "\twith 3 stored elements (1 diagonals) and shape (3, 3)>\n",
      "  Coords\tValues\n",
      "  (0, 0)\t2.0\n",
      "  (1, 1)\t2.0\n",
      "  (2, 2)\t2.0\n"
     ]
    }
   ],
   "source": [
    "Matrix3x3_2s = scipy.sparse.diags([2],offsets=[0],shape=(3,3))\n",
    "\n",
    "print(Matrix3x3_2s)"
   ]
  },
  {
   "cell_type": "markdown",
   "id": "3e77c53e",
   "metadata": {},
   "source": [
    "Lets make a Matrix with Di-Diagonal 1 on top and 2 on main on main, a 3x3 matrix"
   ]
  },
  {
   "cell_type": "code",
   "execution_count": 6,
   "id": "8f8b8907",
   "metadata": {},
   "outputs": [
    {
     "name": "stdout",
     "output_type": "stream",
     "text": [
      "<DIAgonal sparse matrix of dtype 'float64'\n",
      "\twith 5 stored elements (2 diagonals) and shape (3, 3)>\n",
      "  Coords\tValues\n",
      "  (0, 1)\t1.0\n",
      "  (1, 2)\t1.0\n",
      "  (0, 0)\t2.0\n",
      "  (1, 1)\t2.0\n",
      "  (2, 2)\t2.0\n"
     ]
    }
   ],
   "source": [
    "Matrix3x3_1s2s = scipy.sparse.diags([1,2],offsets=[1,0],shape=(3,3))\n",
    "\n",
    "print(Matrix3x3_1s2s)"
   ]
  },
  {
   "cell_type": "markdown",
   "id": "a6137646",
   "metadata": {},
   "source": [
    "Lets make a Matrix with Tri-Diagonal 1 on top and 2 on main and 3 on below Main, a 3x3 matrix"
   ]
  },
  {
   "cell_type": "code",
   "execution_count": 7,
   "id": "422f6d40",
   "metadata": {},
   "outputs": [
    {
     "name": "stdout",
     "output_type": "stream",
     "text": [
      "<DIAgonal sparse matrix of dtype 'float64'\n",
      "\twith 7 stored elements (3 diagonals) and shape (3, 3)>\n",
      "  Coords\tValues\n",
      "  (0, 1)\t1.0\n",
      "  (1, 2)\t1.0\n",
      "  (0, 0)\t2.0\n",
      "  (1, 1)\t2.0\n",
      "  (2, 2)\t2.0\n",
      "  (1, 0)\t3.0\n",
      "  (2, 1)\t3.0\n"
     ]
    }
   ],
   "source": [
    "Matrix3x3_1s2s3s = scipy.sparse.diags([1,2,3], offsets=[1,0,-1],shape=(3,3))\n",
    "\n",
    "print(Matrix3x3_1s2s3s)"
   ]
  },
  {
   "cell_type": "code",
   "execution_count": 8,
   "id": "813d2b73",
   "metadata": {},
   "outputs": [
    {
     "name": "stdout",
     "output_type": "stream",
     "text": [
      "<DIAgonal sparse matrix of dtype 'float64'\n",
      "\twith 7 stored elements (3 diagonals) and shape (3, 3)>\n",
      "  Coords\tValues\n",
      "  (0, 1)\t1.0\n",
      "  (1, 2)\t1.0\n",
      "  (1, 0)\t3.0\n",
      "  (2, 1)\t3.0\n",
      "  (0, 0)\t2.0\n",
      "  (1, 1)\t2.0\n",
      "  (2, 2)\t2.0\n"
     ]
    }
   ],
   "source": [
    "# Alternative\n",
    "\n",
    "Matrix3x3_1s2s3s_alt = scipy.sparse.diags([1,3,2], offsets=[1,-1,0],shape=(3,3))\n",
    "\n",
    "print(Matrix3x3_1s2s3s_alt)"
   ]
  },
  {
   "cell_type": "markdown",
   "id": "0d2166b1",
   "metadata": {},
   "source": [
    "Now Lets Build an Matrix with 3x3 Dimentions but rather than having it Toeplitz, we have 1,2,3 on the Diagonal. \n",
    "\n",
    "sparse.spdiags takes in an array and puts that array on the Diagonal\n",
    "The second argument is the Offset from the Main diagonal, \n",
    "Last to tell the Dimentions, N,N"
   ]
  },
  {
   "cell_type": "code",
   "execution_count": 9,
   "id": "7ebe7df5",
   "metadata": {},
   "outputs": [
    {
     "name": "stdout",
     "output_type": "stream",
     "text": [
      "<DIAgonal sparse matrix of dtype 'int64'\n",
      "\twith 3 stored elements (1 diagonals) and shape (3, 3)>\n",
      "  Coords\tValues\n",
      "  (0, 0)\t1\n",
      "  (1, 1)\t2\n",
      "  (2, 2)\t3\n"
     ]
    }
   ],
   "source": [
    "Matrix3x3_123 = scipy.sparse.spdiags([1,2,3],0,3,3)\n",
    "\n",
    "print(Matrix3x3_123)"
   ]
  },
  {
   "cell_type": "code",
   "execution_count": 12,
   "id": "9f3d5436",
   "metadata": {},
   "outputs": [
    {
     "data": {
      "text/plain": [
       "True"
      ]
     },
     "execution_count": 12,
     "metadata": {},
     "output_type": "execute_result"
    }
   ],
   "source": [
    "bool([0])\n"
   ]
  }
 ],
 "metadata": {
  "kernelspec": {
   "display_name": "Python 3",
   "language": "python",
   "name": "python3"
  },
  "language_info": {
   "codemirror_mode": {
    "name": "ipython",
    "version": 3
   },
   "file_extension": ".py",
   "mimetype": "text/x-python",
   "name": "python",
   "nbconvert_exporter": "python",
   "pygments_lexer": "ipython3",
   "version": "3.12.5"
  }
 },
 "nbformat": 4,
 "nbformat_minor": 5
}
