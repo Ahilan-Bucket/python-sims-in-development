{
 "cells": [
  {
   "cell_type": "markdown",
   "id": "b2a12155",
   "metadata": {},
   "source": [
    "# Proving PV=NRT and aproaching ideal Gas's Boltzman's Constant"
   ]
  },
  {
   "cell_type": "markdown",
   "id": "f489fd61",
   "metadata": {},
   "source": [
    "The Idea.\n",
    "\n",
    "We simulate a Box with chemically inert Particles with some inital Conditions.\n",
    "The particles are going to interact with both each other and the Box itself, exchanging energy.\n",
    "\n",
    "\n",
    "Cool Thought, What would happen if you have N-1 Stationary Particles but 1 particle with enoguh Momentum for N Particles. Would be cool to see this run haha."
   ]
  },
  {
   "cell_type": "code",
   "execution_count": 1,
   "id": "d198f3e8",
   "metadata": {},
   "outputs": [],
   "source": [
    "# Inital Imports\n",
    "import numpy as np\n",
    "import matplotlib\n",
    "import matplotlib.pyplot as plt\n",
    "from matplotlib import animation\n",
    "from matplotlib.animation import PillowWriter\n",
    "#plt.style.use(['science','notebook'])\n",
    "from itertools import combinations"
   ]
  },
  {
   "cell_type": "markdown",
   "id": "dbc98280",
   "metadata": {},
   "source": [
    "Lets Create N Particles with random x and y positions\n",
    "\n",
    "By Default the Size of the Container is 1mx1m. "
   ]
  },
  {
   "cell_type": "code",
   "execution_count": 2,
   "id": "e951cc45",
   "metadata": {},
   "outputs": [],
   "source": [
    "n_particles = 100\n",
    "pos = np.random.random((2,n_particles)) # Creates Random Positions between [0,1) in the inputed shape\n",
    "# Thats, 2 random flots for N particles. [[x1-xN],[y1-yN]] . x1-xN is one Row. x1,y1 is one column\n",
    "# So pos[0] is x coordinates, pos[1] is y coordinates\n",
    "\n",
    "left = pos[0] < 0.5 # Left Side stores in Bool\n",
    "right = ~left"
   ]
  },
  {
   "cell_type": "code",
   "execution_count": 3,
   "id": "4be8f634",
   "metadata": {},
   "outputs": [
    {
     "data": {
      "text/plain": [
       "(2, 100)"
      ]
     },
     "execution_count": 3,
     "metadata": {},
     "output_type": "execute_result"
    }
   ],
   "source": [
    "pos.shape"
   ]
  },
  {
   "cell_type": "markdown",
   "id": "023614fe",
   "metadata": {},
   "source": [
    "Lets Give Tags to every Particle to identify them"
   ]
  },
  {
   "cell_type": "code",
   "execution_count": 4,
   "id": "8bb1a8d3",
   "metadata": {},
   "outputs": [],
   "source": [
    "tag = np.arange(n_particles)"
   ]
  },
  {
   "cell_type": "markdown",
   "id": "2caefc60",
   "metadata": {},
   "source": [
    "Create A Basic Plot of these Particles"
   ]
  },
  {
   "cell_type": "code",
   "execution_count": 5,
   "id": "80ce17e9",
   "metadata": {},
   "outputs": [
    {
     "data": {
      "image/png": "[encoded data removed]",
      "text/plain": [
       "<Figure size 500x500 with 1 Axes>"
      ]
     },
     "metadata": {},
     "output_type": "display_data"
    }
   ],
   "source": [
    "plt.figure(figsize=(5,5))\n",
    "plt.scatter(pos[0][left],pos[1][left],color='red',edgecolors='black',s=5) # s = 0.05 m is the radius of ball\n",
    "plt.scatter(pos[0][right],pos[1][right],color='blue',edgecolors='black',s=5) # Not left is right.\n",
    "plt.show()"
   ]
  },
  {
   "cell_type": "markdown",
   "id": "ab42f6c0",
   "metadata": {},
   "source": [
    "Let's Propell these Particles, the ones on the left have speed of 500m/s, the one on the right have a speed of -500 m/s. The both move into each other. "
   ]
  },
  {
   "cell_type": "code",
   "execution_count": 6,
   "id": "7da9eaee",
   "metadata": {},
   "outputs": [],
   "source": [
    "v = np.zeros((2,n_particles)) # Again, v[0] is x velcoity v[1] is y velcoity. [[vx],[vy]]\n",
    "\n",
    "v[0][left] = 500\n",
    "v[0][right] = -500"
   ]
  },
  {
   "cell_type": "markdown",
   "id": "147ac186",
   "metadata": {},
   "source": [
    "Now we want to Find the Distances between each pairs.\n",
    "To do that we get an array of each particle paired with another. \n",
    "These pairs must be uniqe meaning, they cant pair with themselves and pair (i,j) is same as particle\n",
    "(j,i). \n",
    "\n",
    "According to combinatorics there are n(n-1)/2 pairs like that. \n",
    "\n"
   ]
  },
  {
   "cell_type": "code",
   "execution_count": 7,
   "id": "2af7a1e4",
   "metadata": {},
   "outputs": [],
   "source": [
    "tag_pair = np.asarray(list(combinations(tag,2))) # Give a Pair (2) of uniqe combinatons from the list tags"
   ]
  },
  {
   "cell_type": "markdown",
   "id": "15743b7a",
   "metadata": {},
   "source": [
    "Ex: If tag = [0, 1, 2, 3]\n",
    "then list(combinations(tag, 2)) gives:\n",
    "\n",
    "tag_pair = [(0,1), (0,2), (0,3), (1,2), (1,3), (2,3)] ,4∗3/2=6 pairs.\n",
    "\n",
    "\n",
    "Now we want the distances between each particle yes how do we do this?\n",
    "We make the unique Pairs of particle tags we want distances from\n",
    "Subtract the x position of second column from tag_pair from first column of tag_pair\n",
    "\n",
    "pos has distances of each particle such that pos = [[x0,x1,x2,x3,xN],\n",
    "                                                    [y0,y1,y2,y3,yN]]\n",
    "\n",
    "so, "
   ]
  },
  {
   "cell_type": "code",
   "execution_count": 8,
   "id": "3190563d",
   "metadata": {},
   "outputs": [],
   "source": [
    "x_distance = pos[0][tag_pair[:,1]] - pos[0][tag_pair[:,0]]\n",
    "# Similarly lets get y\n",
    "y_distance = pos[1][tag_pair[:,1]] - pos[1][tag_pair[:,0]]\n",
    "\n",
    "net_distance = np.sqrt(np.abs(x_distance**2 - y_distance**2 )) # Abs cuz some invalid ones also come\n"
   ]
  },
  {
   "cell_type": "markdown",
   "id": "8731561f",
   "metadata": {},
   "source": [
    "Next we decide when the particles collide. \n",
    "The posiitons above are of the center of each particle\n",
    "A collision occurs when the centers are equal to 2 times the radius"
   ]
  },
  {
   "cell_type": "code",
   "execution_count": 9,
   "id": "4fd38974",
   "metadata": {},
   "outputs": [],
   "source": [
    "radius = 0.05 #m \n",
    "\n",
    "tags_collide = tag_pair[net_distance < 2*radius] # Gets Bool of tag Pairs that collide"
   ]
  },
  {
   "cell_type": "markdown",
   "id": "119f9faf",
   "metadata": {},
   "source": [
    "Lets Give these Particles Velcotiies, \n",
    "We do this by thinking of them as having Elastic Collisions. WHich is true in a gas. \n",
    "\n",
    "Here since Kinetic ENergy is COnserved, and Momentum is always conserved in collisions. In vertor Space\n",
    "We find that \n",
    "\n",
    "v1' = v1 - ((v1-v2)(r1-r2)/||r1-r2||**2 )* (r1-r2)\n",
    "\n",
    "Now for what ever is Collisiding we have to do this Velcoity Switch.\n",
    "\n",
    "We have the Pair of Colliding Particles in tags_collide. The first Column is v1 and Second Column is v2."
   ]
  },
  {
   "cell_type": "code",
   "execution_count": 11,
   "id": "9251739d",
   "metadata": {},
   "outputs": [],
   "source": [
    "v1 = tags_collide[:,0]\n",
    "v2 = tags_collide[:,1]\n",
    "\n",
    "r1 = pos[:,tags_collide[:,0]]\n",
    "r2 = pos[:,tags_collide[:,1]]"
   ]
  },
  {
   "cell_type": "code",
   "execution_count": null,
   "id": "bcef22eb",
   "metadata": {},
   "outputs": [
    {
     "data": {
      "text/plain": [
       "array([-10, -16, -20, -39, -41, -69, -92, -97, -17, -22, -54, -56, -61,\n",
       "       -65, -70, -79, -84, -97,  -3,  -4,  -9, -16, -19, -28, -36, -40,\n",
       "       -42, -53, -59, -61, -65, -79, -91, -97, -21, -28, -34,  -4, -41,\n",
       "       -45, -53, -64, -70, -78,  -6, -23, -38, -50, -57, -59, -61, -62,\n",
       "       -76, -94, -12, -36, -38, -41, -42, -52, -57, -79, -88, -17, -20,\n",
       "       -49, -55, -68, -72, -90,  -2, -36, -37, -41, -46, -52, -74, -80,\n",
       "       -25, -28, -54, -62, -73, -29, -31, -50, -59, -72, -78, -80, -82,\n",
       "        -7, -14, -18, -37, -40, -42, -54, -55, -56, -62, -65, -70, -75,\n",
       "       -82, -12, -63, -87,  -2,  -9, -19, -64,  -6, -15, -36, -42, -48,\n",
       "       -50, -64, -74, -75, -77, -84, -85,  -6,  -7,  -8, -23, -45, -46,\n",
       "       -49, -55, -69, -17, -25, -35, -52, -76, -80, -81,  -2, -23, -25,\n",
       "       -26, -41, -44, -68, -74, -76,  -5, -24, -30, -48, -49, -63, -67,\n",
       "       -11, -13, -21, -23, -39, -54, -61, -66, -30, -34, -40, -42, -44,\n",
       "       -49, -58, -68, -69, -76, -78,  -1,  -5, -17, -46, -49, -78,  -4,\n",
       "       -16, -40, -48, -62,  -2, -34, -43, -71, -13, -51, -55, -66,  -1,\n",
       "       -27, -48, -12, -26, -44, -67, -26, -28, -29, -56,  -5,  -6,  -7,\n",
       "       -15, -38, -19, -21, -22, -24, -36, -38, -47, -49, -52, -62, -69,\n",
       "        -2, -31, -37, -42, -43, -51, -63, -69,  -2,  -6, -29, -40, -41,\n",
       "       -44, -59, -12, -63, -64,  -1, -10, -11, -51, -10, -13, -21, -32,\n",
       "       -38, -56, -59,  -8, -26, -34, -45, -32, -61,  -2, -29, -35, -53,\n",
       "        -2,  -3,  -8, -18, -26, -40,  -4, -28, -51, -55, -56,  -2,  -5,\n",
       "        -6, -16, -21, -38,  -5, -11, -15, -23, -37,  -1,  -3, -19, -37,\n",
       "       -51, -31, -32, -41, -49, -11, -12, -16,  -3, -17, -18, -19, -33,\n",
       "       -38,  -5,  -8, -22, -33,  -9, -12, -14, -28, -38, -39, -41, -46,\n",
       "       -48, -49,  -2, -14, -17, -30, -25, -26, -32, -41,  -3, -12, -14,\n",
       "       -21, -23, -28, -33, -44,  -6, -26, -28, -34,  -7,  -9, -11, -12,\n",
       "       -26, -28, -43, -44, -18, -41,  -3,  -5, -12, -30, -40,  -1,  -2,\n",
       "        -4, -10, -22, -24, -28, -29, -39,  -3,  -6,  -9, -12, -24, -30,\n",
       "       -32,  -2,  -9, -17, -18, -22, -26, -27, -36, -37, -19,  -6, -20,\n",
       "       -24, -25, -32, -33, -35,  -2, -11, -16, -21, -15, -19,  -9, -14,\n",
       "       -32,  -6, -24, -21, -14,  -9,  -5, -19, -12, -20, -18, -23,  -4,\n",
       "        -5,  -1,  -7, -19,  -6, -10, -17, -19, -18,  -5, -12, -18,  -6,\n",
       "        -7,  -9,  -6,  -8,  -8,  -1, -10,  -7,  -9, -10,  -2,  -1])"
      ]
     },
     "execution_count": 12,
     "metadata": {},
     "output_type": "execute_result"
    }
   ],
   "source": [
    "# I am not sure Anymore... Let's See"
   ]
  }
 ],
 "metadata": {
  "kernelspec": {
   "display_name": "Python 3",
   "language": "python",
   "name": "python3"
  },
  "language_info": {
   "codemirror_mode": {
    "name": "ipython",
    "version": 3
   },
   "file_extension": ".py",
   "mimetype": "text/x-python",
   "name": "python",
   "nbconvert_exporter": "python",
   "pygments_lexer": "ipython3",
   "version": "3.12.5"
  }
 },
 "nbformat": 4,
 "nbformat_minor": 5
}
